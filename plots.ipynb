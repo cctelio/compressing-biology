{
 "cells": [
  {
   "cell_type": "code",
   "execution_count": null,
   "id": "a56fc981-bf75-4a38-97bf-421b493ed4fb",
   "metadata": {},
   "outputs": [],
   "source": [
    "import os\n",
    "import torch\n",
    "import pandas as pd\n",
    "\n",
    "import kaleido #required\n",
    "kaleido.__version__ #0.2.1\n",
    "import plotly\n",
    "plotly.__version__ #5.5.0\n",
    "#now this works:\n",
    "import plotly.graph_objects as go\n",
    "import plotly.express as px\n",
    "\n",
    "import plotly.io as pio   \n",
    "pio.kaleido.scope.mathjax = None\n",
    "\n",
    "import re\n",
    "from monai.metrics import FIDMetric"
   ]
  },
  {
   "cell_type": "code",
   "execution_count": 2,
   "id": "745cd747-6a39-4e7c-a567-9adcf73a7f16",
   "metadata": {},
   "outputs": [],
   "source": [
    "from dataset.lsun import LSUNDatasetWrapper\n",
    "from torchvision.utils import save_image"
   ]
  },
  {
   "cell_type": "code",
   "execution_count": 3,
   "id": "511dec20-b6ef-4229-a7bf-e9186a792fa6",
   "metadata": {},
   "outputs": [],
   "source": [
    "dataset = LSUNDatasetWrapper(classes=[\"church_outdoor_train\"])\n",
    "save_image(dataset[2], \"church.png\")"
   ]
  },
  {
   "cell_type": "code",
   "execution_count": null,
   "id": "7d8902bc-e0c0-4f65-b315-60975b16595b",
   "metadata": {},
   "outputs": [],
   "source": [
    "from dataset.cpg0000 import CPG0000\n",
    "from monai.data import CacheDataset\n",
    "\n",
    "from PIL import Image\n",
    "\n",
    "cpg0000 = CPG0000(path_csv=\"/folder1/folder2/cpg0000-jump-pilot/csv/BR00116991.csv\")\n",
    "dataset = CacheDataset(cpg0000.csv_ds, transform=cpg0000.val_transforms, cache_rate=0, num_workers=0, copy_cache=False)\n",
    "\n",
    "tensor = dataset[0][\"IMAGE\"][0]\n",
    "\n",
    "# Define a color mapping for each of the 5 channels to RGB\n",
    "# Each row corresponds to a channel, and each column to R, G, B\n",
    "color_map = torch.tensor([\n",
    "    [1.0, 0.0, 0.0],  # Channel 0 → Red\n",
    "    [0.0, 1.0, 0.0],  # Channel 1 → Green\n",
    "    [0.0, 0.0, 1.0],  # Channel 2 → Blue\n",
    "    [0.5, 0.5, 0.0],  # Channel 3 → Red + Green\n",
    "    [0.0, 0.5, 0.5],  # Channel 4 → Green + Blue\n",
    "])\n",
    "\n",
    "# Flatten spatial dimensions and apply color mapping\n",
    "reshaped_tensor = tensor.view(5, -1)  # Shape: (5, 256*256)\n",
    "rgb_tensor = torch.matmul(color_map.T, reshaped_tensor)  # Shape: (3, 256*256)\n",
    "\n",
    "# Reshape back to (3, 256, 256)\n",
    "rgb_tensor = rgb_tensor.view(3, 256, 256)\n",
    "\n",
    "# Normalize to [0, 255] and convert to uint8\n",
    "rgb_image = rgb_tensor.clamp(0, 1) * 255\n",
    "rgb_image = rgb_image.byte().permute(1, 2, 0).numpy()  # Shape: (256, 256, 3)\n",
    "\n",
    "# Save the image\n",
    "image = Image.fromarray(rgb_image)\n",
    "image.save(\"converted_image.png\")"
   ]
  },
  {
   "cell_type": "markdown",
   "id": "d48b1a7e-e5d6-4aef-a1f7-d02f3f3cff70",
   "metadata": {},
   "source": [
    "# Loading features"
   ]
  },
  {
   "cell_type": "code",
   "execution_count": null,
   "id": "d1cb3fd8-c970-44bd-a7fb-04700279fc9a",
   "metadata": {},
   "outputs": [],
   "source": [
    "dict_metrics = {\n",
    "        \"kl_cpg\": \"/folder1/folder2/cpg0000-jump-pilot/metrics/kl\",\n",
    "        \"mae_cpg\": \"/folder1/folder2/cpg0000-jump-pilot/metrics/mae\",\n",
    "        \"mae_cpg_run2\": \"/folder1/folder2/cpg0000-jump-pilot-run2/metrics/mae\",\n",
    "        \"ssim_cpg\": \"/folder1/folder2/cpg0000-jump-pilot/metrics/ssim\",\n",
    "        \"emd_cpg\": \"/folder1/folder2/cpg0000-jump-pilot/metrics/emd\",\n",
    "        \"real_inception_cpg\": \"/folder1/folder2/cpg0000-jump-pilot/metrics/real_inception\",\n",
    "        \"fake_inception_cpg\": \"/folder1/folder2/cpg0000-jump-pilot/metrics/fake_inception\",\n",
    "        \"kl_classroom\": \"/folder1/folder2/sd-vae-lsun-classroom/kl\",\n",
    "        \"mae_classroom\": \"/folder1/folder2/sd-vae-lsun-classroom/mae\",\n",
    "        \"ssim_classroom\": \"/folder1/folder2/sd-vae-lsun-classroom/ssim\",\n",
    "        \"emd_classroom\": \"/folder1/folder2/sd-vae-lsun-classroom/emd\",\n",
    "        \"real_inception_classroom\": \"/folder1/folder2/sd-vae-lsun-classroom/real_inception\",\n",
    "        \"fake_inception_classroom\": \"/folder1/folder2/sd-vae-lsun-classroom/fake_inception\",\n",
    "        \"kl_churches\": \"/folder1/folder2/sd-vae-lsun-church-outdoor/kl\",\n",
    "        \"mae_churches\": \"/folder1/folder2/sd-vae-lsun-church-outdoor/mae\",\n",
    "        \"ssim_churches\": \"/folder1/folder2/sd-vae-lsun-church-outdoor/ssim\",\n",
    "        \"emd_churches\": \"/folder1/folder2/sd-vae-lsun-church-outdoor/emd\",\n",
    "        \"real_inception_churches\": \"/folder1/folder2/sd-vae-lsun-church-outdoor/real_inception\",\n",
    "        \"fake_inception_churches\": \"/folder1/folder2/sd-vae-lsun-church-outdoor/fake_inception\"\n",
    "    }\n",
    "\n",
    "def load_metrics(dict_metrics):\n",
    "    for key, value in dict_metrics.items():\n",
    "        tensors = []\n",
    "        filenames = sorted([f for f in os.listdir(value) if f.endswith('.pt')], key=lambda x: int(re.findall(r'\\d+', x)[0]))\n",
    "        for filename in filenames:\n",
    "            file_path = os.path.join(value, filename)\n",
    "            tensor = torch.load(file_path)\n",
    "            tensors.append(tensor)\n",
    "    \n",
    "        dict_metrics[key] = torch.cat(tensors, dim=0)\n",
    "    return dict_metrics\n",
    "\n",
    "dict_metrics = load_metrics(dict_metrics)"
   ]
  },
  {
   "cell_type": "code",
   "execution_count": null,
   "id": "03401f44-7bad-41c5-b120-ee9b1a2ae85a",
   "metadata": {},
   "outputs": [],
   "source": [
    "path = \"/folder1/folder2/cpg0000-jump-pilot/csv/\"\n",
    "\n",
    "list_plates_pt = sorted([f for f in os.listdir(\"/folder1/folder2/cpg0000-jump-pilot/metrics/real_openphenom\") if f.endswith('.pt')], key=lambda x: int(re.findall(r'\\d+', x)[0]))\n",
    "csv_files = [x.split(\".\")[0] + \".csv\" for x in list_plates_pt]\n",
    "\n",
    "dfs = [pd.read_csv(path + file) for file in csv_files]\n",
    "df = pd.concat(dfs, ignore_index=True)\n",
    "\n",
    "df['row_letter'] = df['row'].apply(lambda x: chr(64 + x))\n",
    "df['column_str'] = df['column'].apply(lambda x: f\"{x:02d}\")\n",
    "df['well'] = df['row_letter'] + df['column_str']\n",
    "\n",
    "df_platemap = pd.read_csv(\"cpg0000-jump-pilot/JUMP-Target-1_compound_platemap.txt\", sep=\"\t\")\n",
    "df_exp = pd.read_csv(\"cpg0000-jump-pilot/experiment-metadata.tsv\", sep=\"\t\")\n",
    "df_platemap['broad_sample'] = df_platemap['broad_sample'].fillna('DMSO')\n",
    "\n",
    "df = pd.merge(df, df_platemap, left_on=['well'], right_on=['well_position'], how='inner')\n",
    "df = pd.merge(df, df_exp, on=\"Assay_Plate_Barcode\")"
   ]
  },
  {
   "cell_type": "code",
   "execution_count": 7,
   "id": "719914a0-8fa7-47d8-928f-2d051357f745",
   "metadata": {},
   "outputs": [
    {
     "data": {
      "text/plain": [
       "(torch.Size([166419]), torch.Size([126200]), torch.Size([66048, 16, 2]))"
      ]
     },
     "execution_count": 7,
     "metadata": {},
     "output_type": "execute_result"
    }
   ],
   "source": [
    "dict_metrics[\"kl_classroom\"].shape, dict_metrics[\"kl_churches\"].shape, dict_metrics[\"kl_cpg\"].shape"
   ]
  },
  {
   "cell_type": "code",
   "execution_count": 8,
   "id": "243906f3-cf04-4600-b8a6-6f4d0aab7e57",
   "metadata": {},
   "outputs": [
    {
     "data": {
      "text/plain": [
       "tensor([-1.3583e-09, -7.6916e-10,  3.7223e-11,  9.5823e-10,  5.2113e-10])"
      ]
     },
     "execution_count": 8,
     "metadata": {},
     "output_type": "execute_result"
    }
   ],
   "source": [
    "(dict_metrics[\"mae_cpg\"] - dict_metrics[\"mae_cpg_run2\"]).mean(axis=(0,1))"
   ]
  },
  {
   "cell_type": "code",
   "execution_count": 9,
   "id": "eb5d8234-08d4-47fe-b4cc-6a64b92f97aa",
   "metadata": {},
   "outputs": [
    {
     "data": {
      "text/plain": [
       "torch.Size([66048, 16, 5])"
      ]
     },
     "execution_count": 9,
     "metadata": {},
     "output_type": "execute_result"
    }
   ],
   "source": [
    "dict_metrics[\"mae_cpg\"].shape"
   ]
  },
  {
   "cell_type": "markdown",
   "id": "718832a3-ece4-4239-8ebf-ef83a2ce8d39",
   "metadata": {},
   "source": [
    "## FID and KL"
   ]
  },
  {
   "cell_type": "code",
   "execution_count": 84,
   "id": "74607010-f6a8-4e63-893d-5fa3b2448c97",
   "metadata": {},
   "outputs": [],
   "source": [
    "features_real = dict_metrics[\"real_inception_cpg\"]\n",
    "features_fake = dict_metrics[\"fake_inception_cpg\"]\n",
    "features_kl = dict_metrics[\"kl_cpg\"]\n",
    "\n",
    "fid = FIDMetric()\n",
    "\n",
    "dataset_list = []\n",
    "fid_list = []\n",
    "kl_list = []\n",
    "split_list = []\n",
    "\n",
    "for name, grouped in df.groupby([\"Cell_type\",\"Time\"]):\n",
    "    indexes = grouped.index.to_list()\n",
    "    real_features_group = features_real[indexes]\n",
    "    fake_features_group = features_fake[indexes]\n",
    "    features_kl_group = features_kl[indexes]\n",
    "    \n",
    "    for i in range(2):\n",
    "        dataset_list.append(name[0] + \"-\" + str(name[1]) + \"h\")\n",
    "        split_list.append(i)\n",
    "        fid_list.append(fid(real_features_group[:,:,i,:].view(-1, 2048), fake_features_group[:,:,i,:].view(-1, 2048)).item())\n",
    "        kl_list.append(features_kl_group[:,:,i].mean().item())\n",
    "\n",
    "fid_list.append(fid(dict_metrics[\"real_inception_classroom\"], dict_metrics[\"fake_inception_classroom\"]).item())\n",
    "kl_list.append(dict_metrics[\"kl_classroom\"].mean().item())\n",
    "split_list.append(\"RGB\")\n",
    "dataset_list.append(\"   Classroom\")\n",
    "\n",
    "fid_list.append(fid(dict_metrics[\"real_inception_churches\"], dict_metrics[\"fake_inception_churches\"]).item())\n",
    "kl_list.append(dict_metrics[\"kl_churches\"].mean().item())\n",
    "split_list.append(\"RGB\")\n",
    "dataset_list.append(\"   Church\")"
   ]
  },
  {
   "cell_type": "code",
   "execution_count": 85,
   "id": "55001223-04c8-4f74-91f3-ef2af98d6db6",
   "metadata": {},
   "outputs": [],
   "source": [
    "data = {'Dataset': dataset_list,\n",
    "        'KLD': kl_list,\n",
    "        'FID': fid_list,\n",
    "       'Channels': split_list}"
   ]
  },
  {
   "cell_type": "code",
   "execution_count": 86,
   "id": "5d9215c6-7dd4-49e6-adcb-af672e10d4e9",
   "metadata": {},
   "outputs": [],
   "source": [
    "df_plot = pd.DataFrame(data)\n",
    "df_plot['Channels'] = df_plot['Channels'].map({0: 'Mito, AGP, RNA', 1: 'RNA, ER, DNA', \"RGB\": \"RGB\"})"
   ]
  },
  {
   "cell_type": "code",
   "execution_count": 40,
   "id": "f6f3e1d9-ed78-4e68-bd58-184aef20c407",
   "metadata": {},
   "outputs": [],
   "source": [
    "fig_fid = px.bar(\n",
    "    df_plot,\n",
    "    x='Dataset',\n",
    "    y='FID',\n",
    "    color='Channels',\n",
    "    barmode='group',\n",
    ")\n",
    "\n",
    "fig_fid.update_layout(\n",
    "    font=dict(size=18, color='black'),\n",
    "    showlegend=False,\n",
    "    bargap=0.2,\n",
    "    bargroupgap=0.1,\n",
    "    xaxis=dict(showgrid=False),\n",
    "    margin=dict(l=40, r=40, t=40, b=40),\n",
    "    legend=dict(\n",
    "        title='Channels',\n",
    "        orientation='v',\n",
    "        x=1,\n",
    "        y=1,\n",
    "        xanchor='right',\n",
    "        yanchor='top',\n",
    "        bgcolor='rgba(255,255,255,0.5)',\n",
    "        bordercolor='black',\n",
    "        borderwidth=1\n",
    "    )\n",
    ")\n",
    "\n",
    "# Save figure to file\n",
    "fig_fid.write_image(\"fid.pdf\")"
   ]
  },
  {
   "cell_type": "code",
   "execution_count": 39,
   "id": "cd890564-ed23-4f24-9579-1e69315085db",
   "metadata": {},
   "outputs": [],
   "source": [
    "fig_kl = px.bar(df_plot, x='Dataset', y='KLD', color=\"Channels\", barmode=\"group\", log_x=False, log_y=False)\n",
    "pio.full_figure_for_development(fig_kl, warn=False)\n",
    "# Update layout and styling\n",
    "\n",
    "fig_kl.update_layout(\n",
    "    font=dict(size=18, color='black'),\n",
    "    bargap=0.2,\n",
    "    bargroupgap=0.1,\n",
    "    xaxis=dict(showgrid=False),\n",
    "    margin=dict(l=40, r=40, t=40, b=40),\n",
    "    legend=dict(\n",
    "        title='Channels',\n",
    "        orientation='v',\n",
    "        x=1,\n",
    "        y=1,\n",
    "        xanchor='right',\n",
    "        yanchor='top',\n",
    "        bgcolor='rgba(255,255,255,0.5)',\n",
    "        bordercolor='black',\n",
    "        borderwidth=1\n",
    "    )\n",
    ")\n",
    "\n",
    "fig_kl.write_image(\"kl.pdf\")"
   ]
  },
  {
   "cell_type": "code",
   "execution_count": 9,
   "id": "60e1686b-0676-4ce4-989b-0e867d22be21",
   "metadata": {},
   "outputs": [
    {
     "data": {
      "text/plain": [
       "(tensor(19137.9238), tensor(7933.4155), tensor(10359.3467))"
      ]
     },
     "execution_count": 9,
     "metadata": {},
     "output_type": "execute_result"
    }
   ],
   "source": [
    "dict_metrics[\"kl_cpg\"].std(), dict_metrics[\"kl_classroom\"].std(), dict_metrics[\"kl_churches\"].std()"
   ]
  },
  {
   "cell_type": "markdown",
   "id": "5f037514-727d-47c2-b1a7-fd8a31846db8",
   "metadata": {},
   "source": [
    "## MAE, SSIM and EMD"
   ]
  },
  {
   "cell_type": "code",
   "execution_count": 10,
   "id": "df0f68f9-b511-4086-9eb2-8a4cddb2c21e",
   "metadata": {},
   "outputs": [],
   "source": [
    "df_classroom = pd.DataFrame(dict_metrics[\"mae_classroom\"], columns=['R', 'G', 'B'])\n",
    "df_classroom = df_classroom.melt(var_name='Channel', value_name='MAE')\n",
    "df_classroom[\"Dataset\"] = \"LSUN\"\n",
    "\n",
    "df_church = pd.DataFrame(dict_metrics[\"mae_churches\"], columns=['R', 'G', 'B'])\n",
    "df_church = df_church.melt(var_name='Channel', value_name='MAE')\n",
    "df_church[\"Dataset\"] = \"LSUN\"\n",
    "\n",
    "df_cpg = pd.DataFrame(dict_metrics[\"mae_cpg\"].mean(1), columns=['Mito.', 'AGP', 'RNA', 'ER', 'DNA'])\n",
    "df_cpg = df_cpg.melt(var_name='Channel', value_name='MAE')\n",
    "df_cpg[\"Dataset\"] = \"CPJUMP1\"\n",
    "\n",
    "df_mae = pd.concat([df_classroom, df_church, df_cpg])"
   ]
  },
  {
   "cell_type": "code",
   "execution_count": 25,
   "id": "bb817401-3bf9-412c-a5b0-60de2c090f16",
   "metadata": {},
   "outputs": [],
   "source": [
    "fig_mae = px.box(df_mae, x='Channel', y='MAE', color=\"Dataset\", points=False)\n",
    "\n",
    "fig_mae.update_layout(\n",
    "    font=dict(size=18, color='black'),\n",
    "    showlegend=False,\n",
    "    bargap=0.2,\n",
    "    bargroupgap=0.1,\n",
    "    xaxis=dict(showgrid=False),\n",
    "    margin=dict(l=40, r=40, t=40, b=40),\n",
    "    legend=dict(\n",
    "        title='Channels',\n",
    "        orientation='v',\n",
    "        x=1,\n",
    "        y=1,\n",
    "        xanchor='right',\n",
    "        yanchor='top',\n",
    "        bgcolor='rgba(255,255,255,0.5)',\n",
    "        bordercolor='black',\n",
    "        borderwidth=1\n",
    "    )\n",
    ")\n",
    "\n",
    "fig_mae.write_image(\"mae.pdf\")"
   ]
  },
  {
   "cell_type": "code",
   "execution_count": 22,
   "id": "6968c6d8-f99c-4ea6-aee2-3a1aaa521059",
   "metadata": {},
   "outputs": [],
   "source": [
    "df_classroom = pd.DataFrame(dict_metrics[\"ssim_classroom\"], columns=['R', 'G', 'B'])\n",
    "df_classroom = df_classroom.melt(var_name='Channel', value_name='SSIM')\n",
    "df_classroom[\"Dataset\"] = \"LSUN\"\n",
    "\n",
    "df_church = pd.DataFrame(dict_metrics[\"ssim_churches\"], columns=['R', 'G', 'B'])\n",
    "df_church = df_church.melt(var_name='Channel', value_name='SSIM')\n",
    "df_church[\"Dataset\"] = \"LSUN\"\n",
    "\n",
    "df_cpg = pd.DataFrame(dict_metrics[\"ssim_cpg\"].mean(1), columns=['Mito.', 'AGP', 'RNA', 'ER', 'DNA'])\n",
    "df_cpg = df_cpg.melt(var_name='Channel', value_name='SSIM')\n",
    "df_cpg[\"Dataset\"] = \"CPJUMP1\"\n",
    "\n",
    "df_ssim = pd.concat([df_classroom, df_church, df_cpg])\n",
    "\n",
    "fig_ssim = px.box(df_ssim, x='Channel', y='SSIM', color=\"Dataset\", points=False)\n",
    "\n",
    "fig_ssim.update_layout(\n",
    "    font=dict(size=18, color='black'),\n",
    "    bargap=0.2,\n",
    "    bargroupgap=0.1,\n",
    "    xaxis=dict(showgrid=False),\n",
    "    margin=dict(l=40, r=40, t=40, b=40),\n",
    "    legend=dict(\n",
    "        title='Channels',\n",
    "        orientation='v',\n",
    "        x=1,\n",
    "        y=1,\n",
    "        xanchor='right',\n",
    "        yanchor='top',\n",
    "        bgcolor='rgba(255,255,255,0.5)',\n",
    "        bordercolor='black',\n",
    "        borderwidth=1\n",
    "    )\n",
    ")\n",
    "fig_ssim.write_image(\"ssim.pdf\")"
   ]
  },
  {
   "cell_type": "code",
   "execution_count": 24,
   "id": "f3f1398b-1a64-4673-931c-e266cda40337",
   "metadata": {},
   "outputs": [],
   "source": [
    "df_classroom = pd.DataFrame(dict_metrics[\"emd_classroom\"], columns=['R', 'G', 'B'])\n",
    "df_classroom = df_classroom.melt(var_name='Channel', value_name='EMD')\n",
    "df_classroom[\"Dataset\"] = \"LSUN\"\n",
    "\n",
    "df_church = pd.DataFrame(dict_metrics[\"emd_churches\"], columns=['R', 'G', 'B'])\n",
    "df_church = df_church.melt(var_name='Channel', value_name='EMD')\n",
    "df_church[\"Dataset\"] = \"LSUN\"\n",
    "\n",
    "df_cpg = pd.DataFrame(dict_metrics[\"emd_cpg\"].mean(1), columns=['Mito.', 'AGP', 'RNA', 'ER', 'DNA'])\n",
    "df_cpg = df_cpg.melt(var_name='Channel', value_name='EMD')\n",
    "df_cpg[\"Dataset\"] = \"CPJUMP1\"\n",
    "\n",
    "df_emd = pd.concat([df_classroom, df_church, df_cpg])\n",
    "\n",
    "fig_emd = px.box(df_emd, x='Channel', y='EMD', color=\"Dataset\", points=False)\n",
    "fig_emd.update_layout(\n",
    "    font=dict(size=18, color='black'),\n",
    "    bargap=0.2,\n",
    "    bargroupgap=0.1,\n",
    "    xaxis=dict(showgrid=False),\n",
    "    margin=dict(l=40, r=40, t=40, b=40),\n",
    "    legend=dict(\n",
    "        title='Channels',\n",
    "        orientation='v',\n",
    "        x=1,\n",
    "        y=1,\n",
    "        xanchor='right',\n",
    "        yanchor='top',\n",
    "        bgcolor='rgba(255,255,255,0.5)',\n",
    "        bordercolor='black',\n",
    "        borderwidth=1\n",
    "    )\n",
    ")\n",
    "fig_emd.write_image(\"emd.pdf\")"
   ]
  }
 ],
 "metadata": {
  "kernelspec": {
   "display_name": "Virtual env. DS-VAE-CP",
   "language": "python",
   "name": "venv_sd_vae_cp"
  },
  "language_info": {
   "codemirror_mode": {
    "name": "ipython",
    "version": 3
   },
   "file_extension": ".py",
   "mimetype": "text/x-python",
   "name": "python",
   "nbconvert_exporter": "python",
   "pygments_lexer": "ipython3",
   "version": "3.11.3"
  }
 },
 "nbformat": 4,
 "nbformat_minor": 5
}
